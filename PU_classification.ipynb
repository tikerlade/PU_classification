{
 "cells": [
  {
   "cell_type": "markdown",
   "metadata": {},
   "source": [
    "# Positive-Unlabeled learning vs One-Class classification\n",
    "\n",
    "Example of using PU learning from the https://www.eecs.wsu.edu/~holder/courses/CptS570/fall09/present/ElkanKDD08.pdf paper as an application task for JetBrains Research internship in summer 2020."
   ]
  },
  {
   "cell_type": "markdown",
   "metadata": {},
   "source": [
    "**Imports**"
   ]
  },
  {
   "cell_type": "code",
   "execution_count": 1,
   "metadata": {
    "ExecuteTime": {
     "end_time": "2020-04-04T14:31:08.853136Z",
     "start_time": "2020-04-04T14:31:08.314673Z"
    }
   },
   "outputs": [],
   "source": [
    "import numpy as np\n",
    "import matplotlib.pyplot as plt\n",
    "from sklearn.linear_model import LogisticRegression\n",
    "from sklearn.model_selection import train_test_split\n",
    "from sklearn.metrics import accuracy_score, classification_report, confusion_matrix\n",
    "\n",
    "%matplotlib inline"
   ]
  },
  {
   "cell_type": "markdown",
   "metadata": {},
   "source": [
    "**PU classifier realization**\n",
    "\n",
    "Classifier based on LogisticRegression"
   ]
  },
  {
   "cell_type": "code",
   "execution_count": 2,
   "metadata": {
    "ExecuteTime": {
     "end_time": "2020-04-04T14:31:08.881190Z",
     "start_time": "2020-04-04T14:31:08.855077Z"
    }
   },
   "outputs": [],
   "source": [
    "class PU_classifier:\n",
    "    \n",
    "    def __init__(self):\n",
    "        self.c = 0 # p(s = 1| y = 1)\n",
    "        self.nontraditional_clf = LogisticRegression() # Classifier label/unlabel\n",
    "    \n",
    "    def fit(self, labeled, unlabeled):\n",
    "        labeled_train, labeled_test = train_test_split(labeled)\n",
    "        \n",
    "        X_train = np.concatenate([labeled_train, unlabeled])\n",
    "        y_train = np.concatenate([np.ones(len(labeled_train)), np.zeros(len(unlabeled))])\n",
    "        \n",
    "        X_test = labeled_test\n",
    "        y_test = np.ones(len(X_test))\n",
    "        \n",
    "        self.nontraditional_clf.fit(X_train, y_train)\n",
    "\n",
    "        predictions = self.nontraditional_clf.predict_proba(X_test)[:, 1]\n",
    "        self.c = sum(predictions)/len(predictions)\n",
    "        \n",
    "    def predict_proba(self, X):\n",
    "        nontraditional_predict = self.nontraditional_clf.predict_proba(X)[:, 1]\n",
    "        pos_predict = nontraditional_predict / self.c\n",
    "        neg_predict = 1 - pos_predict\n",
    "        \n",
    "        return np.array(list(zip(neg_predict, pos_predict)))\n",
    "    \n",
    "    def predict(self, X, treshold=0.5):\n",
    "        proba_predict = self.predict_proba(X)\n",
    "        class_predict = list(map(int, proba_predict[:, 1] > treshold))\n",
    "        \n",
    "        return np.array(class_predict)\n",
    "    \n",
    "    def get_weight(self, x):\n",
    "        prediction = self.nontraditional_clf.predict_proba(x)[0][1]\n",
    "        \n",
    "        comp1 = (1 - self.c)/self.c\n",
    "        comp2 = prediction / (1 - prediction)\n",
    "        \n",
    "        return comp1*comp2\n",
    "        \n",
    "    def weight_fit(self, labeled, unlabeled):\n",
    "        self.fit(labeled, unlabeled)\n",
    "        \n",
    "        X_train = labeled\n",
    "        y_train = np.ones(len(labeled))\n",
    "        weights = np.ones(len(labeled))\n",
    "\n",
    "        for idx, x in enumerate(unlabeled):\n",
    "            weight = self.get_weight([x])\n",
    "            \n",
    "            X_train = np.append(X_train, [x, x])\n",
    "            y_train = np.append(y_train, [1, 0])\n",
    "            weights = np.append(weights, [weight, 1-weight])\n",
    "\n",
    "        X_train = X_train.reshape((-1, labeled.shape[1]))\n",
    "        self.nontraditional_clf.fit(X_train, y_train, sample_weight=weights)\n",
    "\n",
    "        predictions = self.nontraditional_clf.predict_proba(labeled)[:, 1]\n",
    "        self.c = sum(predictions)/len(predictions)"
   ]
  },
  {
   "cell_type": "markdown",
   "metadata": {},
   "source": [
    "**Data synthesizing**\n",
    "\n",
    "`get_data` - Generates data with Gaussians\n",
    "\n",
    "`pu_separation` - Separates initial data to labeled and unlabeled\n",
    "\n",
    "`add_dimension` - Create new features for model to create ellipsoids"
   ]
  },
  {
   "cell_type": "code",
   "execution_count": 23,
   "metadata": {
    "ExecuteTime": {
     "end_time": "2020-04-04T14:51:04.720096Z",
     "start_time": "2020-04-04T14:51:04.685432Z"
    }
   },
   "outputs": [],
   "source": [
    "def get_data(size=1000, frac=0.2, center=(0, 0), cov=((2, 0), (0, 10))):\n",
    "    # Generates sample data of given size with 'frac' size of one class and '1-frac' of another \n",
    "    \n",
    "    radius = np.random.randint(4, 6)\n",
    "    center2 = np.array(center) + np.array([radius, radius])\n",
    "    cov2 = cov[::-1]\n",
    "\n",
    "    data1 = np.random.multivariate_normal(mean=center, cov=cov, size=int(size*frac))\n",
    "    data2 = np.random.multivariate_normal(mean=center2, cov=cov, size=int(size*(1-frac)))\n",
    "    \n",
    "    X = np.concatenate([data1, data2])\n",
    "    y = np.concatenate([np.ones(len(data1)), np.zeros(len(data2))])\n",
    "    \n",
    "    return X, y\n",
    "\n",
    "def pu_separation(data, pos_indexes, frac=0.2):\n",
    "    # Separates data into two classes: labeled and unlabeled\n",
    "    # in labeled class may lie only examples of one class\n",
    "    size = int(len(pos_indexes) * frac)\n",
    "    \n",
    "    labeled_idx = np.array(np.random.choice(pos_indexes, size=size), dtype=int)\n",
    "    unlabeled_idx = np.array([idx for idx in range(len(data)) if idx not in labeled_idx])\n",
    "    \n",
    "    labeled = data[labeled_idx, :]\n",
    "    unlabeled = data[unlabeled_idx, :]\n",
    "    \n",
    "    return labeled, unlabeled\n",
    "\n",
    "def add_dimension(x_sample):\n",
    "    shapes = list(x_sample.shape)\n",
    "    shapes[1] += 3\n",
    "    \n",
    "    temp = np.zeros(shapes)\n",
    "    temp[:, :-3] = x_sample\n",
    "    \n",
    "    temp[:, -3] = temp[:, 0] ** 2\n",
    "    temp[:, -2] = temp[:, 1] ** 2\n",
    "    temp[:, -1] = temp[:, 0] * temp[:, 1]\n",
    "    \n",
    "    return temp\n",
    "    "
   ]
  },
  {
   "cell_type": "code",
   "execution_count": 24,
   "metadata": {
    "ExecuteTime": {
     "end_time": "2020-04-04T14:51:05.085706Z",
     "start_time": "2020-04-04T14:51:05.048070Z"
    }
   },
   "outputs": [],
   "source": [
    "x_sample, y_sample = get_data()\n",
    "x_sample = add_dimension(x_sample)\n",
    "\n",
    "pos_indexes = [idx for idx, val in enumerate(y_sample) if val == 1]\n",
    "neg_indexes = [idx for idx, val in enumerate(y_sample) if val == 0]\n",
    "\n",
    "labeled, unlabeled = pu_separation(x_sample, pos_indexes)"
   ]
  },
  {
   "cell_type": "markdown",
   "metadata": {},
   "source": [
    "**Models**\n",
    "\n",
    "Create two kinds of models:\n",
    "\n",
    "- **PU_classifier** (based on Logistic Regression)\n",
    "\n",
    "- **LogisticRegression**\n",
    "\n",
    "Train models:\n",
    "\n",
    "- **PU_classifier** on labeled/unlabeled data\n",
    "\n",
    "- **LogisticRegression** on some training set of positive/negative data"
   ]
  },
  {
   "cell_type": "code",
   "execution_count": 25,
   "metadata": {
    "ExecuteTime": {
     "end_time": "2020-04-04T14:51:05.717186Z",
     "start_time": "2020-04-04T14:51:05.471997Z"
    }
   },
   "outputs": [],
   "source": [
    "pu_clf = PU_classifier()\n",
    "lr_clf = LogisticRegression()\n",
    "\n",
    "pu_clf.weight_fit(labeled,unlabeled)\n",
    "lr_clf.fit(x_sample, y_sample)\n",
    "\n",
    "pu_predictions = pu_clf.predict(x_sample)\n",
    "lr_predictions = lr_clf.predict(x_sample)"
   ]
  },
  {
   "cell_type": "markdown",
   "metadata": {},
   "source": [
    "**Plotting**"
   ]
  },
  {
   "cell_type": "code",
   "execution_count": 26,
   "metadata": {
    "ExecuteTime": {
     "end_time": "2020-04-04T14:51:05.870442Z",
     "start_time": "2020-04-04T14:51:05.858554Z"
    }
   },
   "outputs": [],
   "source": [
    "def scatter(data, indexes, ax, title, markers, colors):\n",
    "    ax.set_title(title)\n",
    "    \n",
    "    for idx, m, c in zip(indexes, markers, colors):\n",
    "        ax.scatter(data[idx, 0], data[idx, 1], c=c, marker=m)\n",
    "\n",
    "def plot_levels(ax, clf):\n",
    "    x_left, x_right = ax.get_xlim()\n",
    "    y_left, y_right = ax.get_ylim()\n",
    "    xx, yy = np.mgrid[x_left:x_right:.1, y_left:y_right:.1]\n",
    "\n",
    "    grid = np.c_[xx.ravel(), yy.ravel()]\n",
    "    grid = add_dimension(grid)\n",
    "\n",
    "    probs = clf.predict_proba(grid)[:, 1].reshape(xx.shape)\n",
    "    ax.contour(xx, yy, probs, linestyles='dashed', levels=1)"
   ]
  },
  {
   "cell_type": "code",
   "execution_count": 27,
   "metadata": {
    "ExecuteTime": {
     "end_time": "2020-04-04T14:51:06.087093Z",
     "start_time": "2020-04-04T14:51:06.077087Z"
    }
   },
   "outputs": [],
   "source": [
    "lr_pos_classes = [idx for idx, val in enumerate(lr_predictions) if val == 1]\n",
    "lr_neg_classes = [idx for idx, val in enumerate(lr_predictions) if val == 0]\n",
    "\n",
    "pu_pos_classes = [idx for idx, cl in enumerate(pu_predictions) if cl == 1]\n",
    "pu_neg_classes = [idx for idx, cl in enumerate(pu_predictions) if cl == 0]"
   ]
  },
  {
   "cell_type": "code",
   "execution_count": 28,
   "metadata": {
    "ExecuteTime": {
     "end_time": "2020-04-04T14:51:07.262300Z",
     "start_time": "2020-04-04T14:51:06.324448Z"
    },
    "scrolled": false
   },
   "outputs": [
    {
     "data": {
      "image/png": "[encoded data removed]",
      "text/plain": [
       "<Figure size 864x864 with 4 Axes>"
      ]
     },
     "metadata": {
      "needs_background": "light"
     },
     "output_type": "display_data"
    }
   ],
   "source": [
    "fig, ((ax1, ax2), (ax3, ax4)) = plt.subplots(2, 2, figsize=(12, 12))\n",
    "\n",
    "# Plot generated data with classes\n",
    "scatter(x_sample, [pos_indexes, neg_indexes], ax1, 'Generated data', ['+', '_'], ['g', 'r'])\n",
    "\n",
    "# Plot training data for PU classifier\n",
    "ax2.set_title('PU training data')\n",
    "ax2.scatter(labeled[:, 0], labeled[:, 1], c='g', marker='+')\n",
    "ax2.scatter(unlabeled[:, 0], unlabeled[:, 1], c='r', marker='_')\n",
    "\n",
    "# Plot predicted values of PU classifier & levels\n",
    "scatter(x_sample, [pu_pos_classes, pu_neg_classes], ax3, 'PU model', ['+', '_'], ['g', 'r'])\n",
    "plot_levels(ax3, pu_clf)\n",
    "\n",
    "# Plot predicted values of pretrained LogisticRegression\n",
    "scatter(x_sample, [lr_pos_classes, lr_neg_classes], ax4, 'LogReg model', ['+', '_'], ['g', 'r'])\n",
    "plot_levels(ax4, lr_clf)\n",
    "\n",
    "plt.savefig('classification_result.jpg')\n",
    "plt.show()"
   ]
  },
  {
   "cell_type": "markdown",
   "metadata": {},
   "source": [
    "**Metrics**"
   ]
  },
  {
   "cell_type": "code",
   "execution_count": 29,
   "metadata": {
    "ExecuteTime": {
     "end_time": "2020-04-04T14:51:09.964302Z",
     "start_time": "2020-04-04T14:51:09.945648Z"
    }
   },
   "outputs": [
    {
     "name": "stdout",
     "output_type": "stream",
     "text": [
      "Classification report:\n",
      "              precision    recall  f1-score   support\n",
      "\n",
      "           0       0.96      0.97      0.97       796\n",
      "           1       0.88      0.86      0.87       204\n",
      "\n",
      "    accuracy                           0.95      1000\n",
      "   macro avg       0.92      0.92      0.92      1000\n",
      "weighted avg       0.95      0.95      0.95      1000\n",
      "\n",
      "--------------------------------------------------------------------------------\n",
      "Confusion matrix:\n",
      "[[772  24]\n",
      " [ 28 176]]\n"
     ]
    }
   ],
   "source": [
    "print('Classification report:')\n",
    "print(classification_report(pu_predictions, y_sample))\n",
    "print('-'*80)\n",
    "print('Confusion matrix:')\n",
    "print(confusion_matrix(pu_predictions, y_sample))"
   ]
  },
  {
   "cell_type": "code",
   "execution_count": 30,
   "metadata": {
    "ExecuteTime": {
     "end_time": "2020-04-04T14:51:12.066694Z",
     "start_time": "2020-04-04T14:51:12.055357Z"
    },
    "scrolled": true
   },
   "outputs": [
    {
     "name": "stdout",
     "output_type": "stream",
     "text": [
      "Classification report:\n",
      "              precision    recall  f1-score   support\n",
      "\n",
      "         0.0       0.98      0.97      0.98       806\n",
      "         1.0       0.89      0.92      0.90       194\n",
      "\n",
      "    accuracy                           0.96      1000\n",
      "   macro avg       0.94      0.95      0.94      1000\n",
      "weighted avg       0.96      0.96      0.96      1000\n",
      "\n",
      "--------------------------------------------------------------------------------\n",
      "Confusion matrix:\n",
      "[[784  22]\n",
      " [ 16 178]]\n"
     ]
    }
   ],
   "source": [
    "print('Classification report:')\n",
    "print(classification_report(lr_predictions, y_sample))\n",
    "print('-'*80)\n",
    "print('Confusion matrix:')\n",
    "print(confusion_matrix(lr_predictions, y_sample))"
   ]
  }
 ],
 "metadata": {
  "kernelspec": {
   "display_name": "Python 3",
   "language": "python",
   "name": "python3"
  },
  "language_info": {
   "codemirror_mode": {
    "name": "ipython",
    "version": 3
   },
   "file_extension": ".py",
   "mimetype": "text/x-python",
   "name": "python",
   "nbconvert_exporter": "python",
   "pygments_lexer": "ipython3",
   "version": "3.6.8"
  }
 },
 "nbformat": 4,
 "nbformat_minor": 2
}
